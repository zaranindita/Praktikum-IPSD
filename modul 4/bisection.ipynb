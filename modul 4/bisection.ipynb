{
 "cells": [
  {
   "cell_type": "code",
   "execution_count": 3,
   "metadata": {},
   "outputs": [
    {
     "name": "stdout",
     "output_type": "stream",
     "text": [
      "nilai y untuk luas maks: 1.154700517654419\n",
      "luas maks: 6.158402871356005\n"
     ]
    }
   ],
   "source": [
    "# turunan pertama dari A(y)\n",
    "def turunan (y):\n",
    "    return 8 - 6 * y**2\n",
    "\n",
    "# menghitung luas maksimum setelah menemukan y optimal\n",
    "def luas(y):\n",
    "    return 8 * y - 2 * y**3\n",
    "\n",
    "# bisection \n",
    "def bisection (func, a, b, tol=1e-6, iterasi=1000):\n",
    "    fa = func(a)\n",
    "    fb = func(b)\n",
    "    \n",
    "    if fa * fb >= 0:\n",
    "        print(\"tidak ada akar di interval yang diberikan.\")\n",
    "        return None  \n",
    "    \n",
    "    for _ in range(iterasi):\n",
    "        c = (a + b) / 2 \n",
    "        fc = func(c)\n",
    "        \n",
    "        if abs(fc) < tol:\n",
    "            return c  \n",
    "        \n",
    "        if fa * fc < 0:\n",
    "            b, fb = c, fc\n",
    "        else:\n",
    "            a, fa = c, fc\n",
    "    return (a + b) / 2\n",
    "\n",
    "ymaks = bisection (turunan, 0, 2)\n",
    "\n",
    "# hitung luas maks\n",
    "if ymaks is not None:\n",
    "    luasmaks = luas(ymaks)\n",
    "    print(f\"nilai y untuk luas maks: {ymaks}\")\n",
    "    print(f\"luas maks: {luasmaks}\")\n",
    "else:\n",
    "    print(\"tidak ditemukan akar di interval yang diberikan.\")\n"
   ]
  },
  {
   "cell_type": "code",
   "execution_count": null,
   "metadata": {},
   "outputs": [],
   "source": []
  }
 ],
 "metadata": {
  "kernelspec": {
   "display_name": "Python 3",
   "language": "python",
   "name": "python3"
  },
  "language_info": {
   "codemirror_mode": {
    "name": "ipython",
    "version": 3
   },
   "file_extension": ".py",
   "mimetype": "text/x-python",
   "name": "python",
   "nbconvert_exporter": "python",
   "pygments_lexer": "ipython3",
   "version": "3.12.6"
  }
 },
 "nbformat": 4,
 "nbformat_minor": 2
}

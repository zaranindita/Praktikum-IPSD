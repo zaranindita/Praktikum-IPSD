{
 "cells": [
  {
   "cell_type": "code",
   "execution_count": 43,
   "metadata": {},
   "outputs": [
    {
     "name": "stdout",
     "output_type": "stream",
     "text": [
      "  Marketing expense  Production expense  Multiplex coverage      Budget  \\\n",
      "0           201.264               59.62               462.0  36.524.125   \n",
      "1           205.462               69.14               531.0  35.668.655   \n",
      "2           205.458               69.14               531.0  39.912.675   \n",
      "3           206.474               59.36               542.0    38873.89   \n",
      "4            21.381               59.36               542.0  39.701.585   \n",
      "\n",
      "   Movie_length  Lead_ Actor_Rating  Lead_Actress_rating  Director_rating  \\\n",
      "0         138.7               7.825                8.095            7.910   \n",
      "1         152.4               7.505                7.650            7.440   \n",
      "2         134.6               7.485                7.570            7.495   \n",
      "3         119.3               6.895                7.035            6.920   \n",
      "4         127.7               6.920                7.070            6.815   \n",
      "\n",
      "   Producer_rating  Critic_rating  Trailer_views 3D_available  Time_taken  \\\n",
      "0            7.995           7.94         527367          YES      109.60   \n",
      "1            7.470           7.44         494055           NO      146.64   \n",
      "2            7.515           7.44         547051           NO      147.88   \n",
      "3            7.020           8.26         516279          YES      185.36   \n",
      "4            7.070           8.26         531448           NO      176.48   \n",
      "\n",
      "   Twitter_hastags     Genre  Avg_age_actors  Num_multiplex  Collection  \\\n",
      "0          223.840  Thriller              23            494       48000   \n",
      "1          243.456     Drama              42            462       43200   \n",
      "2         2022.400    Comedy              38            458       69400   \n",
      "3          225.344     Drama              45            472       66800   \n",
      "4          225.792     Drama              55            395       72400   \n",
      "\n",
      "   Start_Tech_Oscar  \n",
      "0                 1  \n",
      "1                 0  \n",
      "2                 1  \n",
      "3                 1  \n",
      "4                 1  \n"
     ]
    }
   ],
   "source": [
    "# 1. load data\n",
    "import pandas as pd\n",
    "df = pd.read_csv('movie2.csv')\n",
    "print(df.head())"
   ]
  },
  {
   "cell_type": "code",
   "execution_count": 45,
   "metadata": {},
   "outputs": [
    {
     "name": "stdout",
     "output_type": "stream",
     "text": [
      "Jumlah baris duplikat: 0\n",
      "Baris duplikat: \n",
      " Empty DataFrame\n",
      "Columns: [Marketing expense, Production expense, Multiplex coverage, Budget, Movie_length, Lead_ Actor_Rating, Lead_Actress_rating, Director_rating, Producer_rating, Critic_rating, Trailer_views, 3D_available, Time_taken, Twitter_hastags, Genre, Avg_age_actors, Num_multiplex, Collection, Start_Tech_Oscar]\n",
      "Index: []\n"
     ]
    }
   ],
   "source": [
    "# 2. cek jumlah duplikat\n",
    "jumlahduplikat = df.duplicated().sum()\n",
    "print(f\"Jumlah baris duplikat: {jumlahduplikat}\")\n",
    "\n",
    "#  menampilkan baris duplikat\n",
    "barisduplikat = df[df.duplicated()]\n",
    "print(\"Baris duplikat: \\n\", barisduplikat)"
   ]
  },
  {
   "cell_type": "code",
   "execution_count": 42,
   "metadata": {},
   "outputs": [
    {
     "name": "stdout",
     "output_type": "stream",
     "text": [
      "jumlah null values:\n",
      "Marketing expense      0\n",
      "Production expense     0\n",
      "Multiplex coverage     0\n",
      "Budget                 0\n",
      "Movie_length           0\n",
      "Lead_ Actor_Rating     0\n",
      "Lead_Actress_rating    0\n",
      "Director_rating        0\n",
      "Producer_rating        0\n",
      "Critic_rating          0\n",
      "Trailer_views          0\n",
      "3D_available           0\n",
      "Time_taken             0\n",
      "Twitter_hastags        0\n",
      "Genre                  0\n",
      "Avg_age_actors         0\n",
      "Num_multiplex          0\n",
      "Collection             0\n",
      "Start_Tech_Oscar       0\n",
      "dtype: int64\n"
     ]
    }
   ],
   "source": [
    "#3. menemukan null values \n",
    "missing_values = df.isnull().sum()\n",
    "print(\"jumlah null values:\")\n",
    "print(missing_values)"
   ]
  },
  {
   "cell_type": "code",
   "execution_count": 39,
   "metadata": {},
   "outputs": [
    {
     "name": "stdout",
     "output_type": "stream",
     "text": [
      "\n",
      "persentase null values:\n",
      "Marketing expense      0.0\n",
      "Production expense     0.0\n",
      "Multiplex coverage     0.0\n",
      "Budget                 0.0\n",
      "Movie_length           0.0\n",
      "Lead_ Actor_Rating     0.0\n",
      "Lead_Actress_rating    0.0\n",
      "Director_rating        0.0\n",
      "Producer_rating        0.0\n",
      "Critic_rating          0.0\n",
      "Trailer_views          0.0\n",
      "3D_available           0.0\n",
      "Time_taken             0.0\n",
      "Twitter_hastags        0.0\n",
      "Genre                  0.0\n",
      "Avg_age_actors         0.0\n",
      "Num_multiplex          0.0\n",
      "Collection             0.0\n",
      "Start_Tech_Oscar       0.0\n",
      "dtype: float64\n"
     ]
    }
   ],
   "source": [
    "# 3. persentase null values \n",
    "missing_percentage = (df.isnull().sum() / len(df)) * 100\n",
    "print(\"\\npersentase null values:\")\n",
    "print(missing_percentage)"
   ]
  },
  {
   "cell_type": "code",
   "execution_count": 53,
   "metadata": {},
   "outputs": [
    {
     "name": "stdout",
     "output_type": "stream",
     "text": [
      "Marketing expense       object\n",
      "Production expense     float64\n",
      "Multiplex coverage     float64\n",
      "Budget                  object\n",
      "Movie_length           float64\n",
      "Lead_ Actor_Rating     float64\n",
      "Lead_Actress_rating    float64\n",
      "Director_rating        float64\n",
      "Producer_rating        float64\n",
      "Critic_rating          float64\n",
      "Trailer_views            int64\n",
      "3D_available            object\n",
      "Time_taken             float64\n",
      "Twitter_hastags        float64\n",
      "Genre                   object\n",
      "Avg_age_actors           int64\n",
      "Num_multiplex            int64\n",
      "Collection               int64\n",
      "Start_Tech_Oscar         int64\n",
      "dtype: object\n"
     ]
    }
   ],
   "source": [
    "print(df.dtypes)"
   ]
  },
  {
   "cell_type": "code",
   "execution_count": 51,
   "metadata": {},
   "outputs": [
    {
     "name": "stdout",
     "output_type": "stream",
     "text": [
      "\n",
      "setelah menghapus kolom dengan null values:\n",
      "<class 'pandas.core.frame.DataFrame'>\n",
      "RangeIndex: 506 entries, 0 to 505\n",
      "Data columns (total 19 columns):\n",
      " #   Column               Non-Null Count  Dtype  \n",
      "---  ------               --------------  -----  \n",
      " 0   Marketing expense    506 non-null    object \n",
      " 1   Production expense   506 non-null    float64\n",
      " 2   Multiplex coverage   506 non-null    float64\n",
      " 3   Budget               506 non-null    object \n",
      " 4   Movie_length         506 non-null    float64\n",
      " 5   Lead_ Actor_Rating   506 non-null    float64\n",
      " 6   Lead_Actress_rating  506 non-null    float64\n",
      " 7   Director_rating      506 non-null    float64\n",
      " 8   Producer_rating      506 non-null    float64\n",
      " 9   Critic_rating        506 non-null    float64\n",
      " 10  Trailer_views        506 non-null    int64  \n",
      " 11  3D_available         506 non-null    object \n",
      " 12  Time_taken           506 non-null    float64\n",
      " 13  Twitter_hastags      506 non-null    float64\n",
      " 14  Genre                506 non-null    object \n",
      " 15  Avg_age_actors       506 non-null    int64  \n",
      " 16  Num_multiplex        506 non-null    int64  \n",
      " 17  Collection           506 non-null    int64  \n",
      " 18  Start_Tech_Oscar     506 non-null    int64  \n",
      "dtypes: float64(10), int64(5), object(4)\n",
      "memory usage: 75.2+ KB\n",
      "None\n",
      "\n",
      " shape setelah drop baris dengan null values: (506, 19)\n"
     ]
    }
   ],
   "source": [
    "# 4. drop null values kolom\n",
    "datadropkolom = df.dropna(axis=1)\n",
    "print(\"\\nsetelah menghapus kolom dengan null values:\")\n",
    "print(datadropkolom.info())\n",
    "print(\"\\n shape setelah drop baris dengan null values:\", datadropkolom.shape)"
   ]
  },
  {
   "cell_type": "code",
   "execution_count": 52,
   "metadata": {},
   "outputs": [
    {
     "name": "stdout",
     "output_type": "stream",
     "text": [
      "\n",
      "setelah menghapus baris dengan null values:\n",
      "<class 'pandas.core.frame.DataFrame'>\n",
      "RangeIndex: 506 entries, 0 to 505\n",
      "Data columns (total 19 columns):\n",
      " #   Column               Non-Null Count  Dtype  \n",
      "---  ------               --------------  -----  \n",
      " 0   Marketing expense    506 non-null    object \n",
      " 1   Production expense   506 non-null    float64\n",
      " 2   Multiplex coverage   506 non-null    float64\n",
      " 3   Budget               506 non-null    object \n",
      " 4   Movie_length         506 non-null    float64\n",
      " 5   Lead_ Actor_Rating   506 non-null    float64\n",
      " 6   Lead_Actress_rating  506 non-null    float64\n",
      " 7   Director_rating      506 non-null    float64\n",
      " 8   Producer_rating      506 non-null    float64\n",
      " 9   Critic_rating        506 non-null    float64\n",
      " 10  Trailer_views        506 non-null    int64  \n",
      " 11  3D_available         506 non-null    object \n",
      " 12  Time_taken           506 non-null    float64\n",
      " 13  Twitter_hastags      506 non-null    float64\n",
      " 14  Genre                506 non-null    object \n",
      " 15  Avg_age_actors       506 non-null    int64  \n",
      " 16  Num_multiplex        506 non-null    int64  \n",
      " 17  Collection           506 non-null    int64  \n",
      " 18  Start_Tech_Oscar     506 non-null    int64  \n",
      "dtypes: float64(10), int64(5), object(4)\n",
      "memory usage: 75.2+ KB\n",
      "None\n",
      "shape setelah drop kolom dengan null values: (506, 19)\n"
     ]
    }
   ],
   "source": [
    "# 4. drop missing value baris\n",
    "datadropbaris = df.dropna()\n",
    "print(\"\\nsetelah menghapus baris dengan null values:\")\n",
    "print(datadropbaris.info())\n",
    "print(\"shape setelah drop kolom dengan null values:\", datadropbaris.shape)"
   ]
  },
  {
   "cell_type": "code",
   "execution_count": 24,
   "metadata": {},
   "outputs": [
    {
     "name": "stdout",
     "output_type": "stream",
     "text": [
      "Shape setelah imputasi nilai hilang dengan mean: (506, 19)\n",
      "Shape setelah imputasi nilai hilang dengan median: (506, 19)\n",
      "Shape setelah imputasi nilai hilang dengan modus: (506, 19)\n"
     ]
    }
   ],
   "source": [
    "# 4. Imputasi null values dengan mean, median, modus\n",
    "df_imputasi_mean = df.fillna(df.mean(numeric_only=True))  \n",
    "df_imputasi_median = df.fillna(df.median(numeric_only=True)) \n",
    "df_imputasi_modus = df.fillna(df.mode().iloc[0])  \n",
    "\n",
    "print(\"setelah imputasi nilai hilang dengan mean:\", df_imputasi_mean.shape)\n",
    "print(\"setelah imputasi nilai hilang dengan median:\", df_imputasi_median.shape)\n",
    "print(\"setelah imputasi nilai hilang dengan modus:\", df_imputasi_modus.shape)"
   ]
  },
  {
   "cell_type": "code",
   "execution_count": 33,
   "metadata": {},
   "outputs": [
    {
     "name": "stdout",
     "output_type": "stream",
     "text": [
      "Data telah diekspor ke format Excel.\n"
     ]
    }
   ],
   "source": [
    "# 5. csv to excel\n",
    "df.to_excel('Movie2.xlsx', index=False)\n",
    "\n",
    "print('data telah diekspor ke excel.')"
   ]
  },
  {
   "cell_type": "code",
   "execution_count": null,
   "metadata": {},
   "outputs": [],
   "source": []
  }
 ],
 "metadata": {
  "kernelspec": {
   "display_name": "Python 3",
   "language": "python",
   "name": "python3"
  },
  "language_info": {
   "codemirror_mode": {
    "name": "ipython",
    "version": 3
   },
   "file_extension": ".py",
   "mimetype": "text/x-python",
   "name": "python",
   "nbconvert_exporter": "python",
   "pygments_lexer": "ipython3",
   "version": "3.12.6"
  }
 },
 "nbformat": 4,
 "nbformat_minor": 2
}
